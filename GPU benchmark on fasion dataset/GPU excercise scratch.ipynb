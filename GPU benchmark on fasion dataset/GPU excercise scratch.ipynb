{
 "cells": [
  {
   "cell_type": "code",
   "execution_count": 1,
   "id": "0ca7f395",
   "metadata": {},
   "outputs": [],
   "source": [
    "import tensorflow as tf\n",
    "from tensorflow import keras\n",
    "import numpy as np\n",
    "import matplotlib.pyplot as plt"
   ]
  },
  {
   "cell_type": "code",
   "execution_count": 2,
   "id": "5f24afae",
   "metadata": {},
   "outputs": [
    {
     "data": {
      "text/plain": [
       "9"
      ]
     },
     "execution_count": 2,
     "metadata": {},
     "output_type": "execute_result"
    }
   ],
   "source": [
    "fashion_mnist = keras.datasets.fashion_mnist\n",
    "\n",
    "(train_images,train_labels),(test_images,test_labels) = fashion_mnist.load_data()\n",
    "train_labels[0]"
   ]
  },
  {
   "cell_type": "code",
   "execution_count": 3,
   "id": "c35add0a",
   "metadata": {},
   "outputs": [],
   "source": [
    "classes =  ['T-shirt/top', 'Trouser', 'Pullover', 'Dress', 'Coat',\n",
    "               'Sandal', 'Shirt', 'Sneaker', 'Bag', 'Ankle boot']"
   ]
  },
  {
   "cell_type": "code",
   "execution_count": 4,
   "id": "05bc3206",
   "metadata": {},
   "outputs": [],
   "source": [
    "train_images_scaled = train_images/255.0\n",
    "test_images_scaled = test_images/255.0"
   ]
  },
  {
   "cell_type": "code",
   "execution_count": 5,
   "id": "910c285a",
   "metadata": {},
   "outputs": [],
   "source": [
    "def get_model(hidden_layers=1):\n",
    "    layers = []\n",
    "    layers.append(keras.layers.Flatten(input_shape = (28,28)))\n",
    "    \n",
    "    for i in range(hidden_layers):\n",
    "        layers.append(keras.layers.Dense(500,activation = 'relu'))\n",
    "    \n",
    "    layers.append(keras.layers.Dense(10,activation = 'sigmoid'))\n",
    "    \n",
    "    model = keras.Sequential(layers)\n",
    "    \n",
    "    model.compile(optimizer = 'adam',\n",
    "                 loss = 'sparse_categorical_crossentropy',\n",
    "                 metrics = ['accuracy'])\n",
    "    return model"
   ]
  },
  {
   "cell_type": "code",
   "execution_count": 6,
   "id": "be6d11e1",
   "metadata": {},
   "outputs": [
    {
     "name": "stdout",
     "output_type": "stream",
     "text": [
      "Epoch 1/5\n",
      "1875/1875 [==============================] - 15s 3ms/step - loss: 0.4751 - accuracy: 0.8284\n",
      "Epoch 2/5\n",
      "1875/1875 [==============================] - 6s 3ms/step - loss: 0.3592 - accuracy: 0.8694\n",
      "Epoch 3/5\n",
      "1875/1875 [==============================] - 6s 3ms/step - loss: 0.3208 - accuracy: 0.8818\n",
      "Epoch 4/5\n",
      "1875/1875 [==============================] - 6s 3ms/step - loss: 0.2986 - accuracy: 0.8900\n",
      "Epoch 5/5\n",
      "1875/1875 [==============================] - 7s 4ms/step - loss: 0.2811 - accuracy: 0.8944\n"
     ]
    },
    {
     "data": {
      "text/plain": [
       "<tensorflow.python.keras.callbacks.History at 0x1919b4150a0>"
      ]
     },
     "execution_count": 6,
     "metadata": {},
     "output_type": "execute_result"
    }
   ],
   "source": [
    "model = get_model(1)\n",
    "model.fit(train_images_scaled,train_labels,epochs = 5)"
   ]
  },
  {
   "cell_type": "code",
   "execution_count": 9,
   "id": "9bdadd8e",
   "metadata": {},
   "outputs": [],
   "source": [
    "x = model.predict(test_images_scaled)[2]"
   ]
  },
  {
   "cell_type": "code",
   "execution_count": 10,
   "id": "be1c5f67",
   "metadata": {},
   "outputs": [
    {
     "data": {
      "text/plain": [
       "(1, 1)"
      ]
     },
     "execution_count": 10,
     "metadata": {},
     "output_type": "execute_result"
    }
   ],
   "source": [
    "np.argmax(x),test_labels[2]"
   ]
  },
  {
   "cell_type": "code",
   "execution_count": 13,
   "id": "818132f9",
   "metadata": {},
   "outputs": [
    {
     "name": "stdout",
     "output_type": "stream",
     "text": [
      "Epoch 1/5\n",
      "1875/1875 [==============================] - 28s 14ms/step - loss: 0.5153 - accuracy: 0.8136\n",
      "Epoch 2/5\n",
      "1875/1875 [==============================] - 25s 13ms/step - loss: 0.3920 - accuracy: 0.8585\n",
      "Epoch 3/5\n",
      "1875/1875 [==============================] - 24s 13ms/step - loss: 0.3521 - accuracy: 0.8730\n",
      "Epoch 4/5\n",
      "1875/1875 [==============================] - 24s 13ms/step - loss: 0.3271 - accuracy: 0.8815\n",
      "Epoch 5/5\n",
      "1875/1875 [==============================] - 24s 13ms/step - loss: 0.3056 - accuracy: 0.8885\n",
      "2min 3s ± 0 ns per loop (mean ± std. dev. of 1 run, 1 loop each)\n"
     ]
    }
   ],
   "source": [
    "%%timeit -n1 -r1\n",
    "\n",
    "with tf.device('CPU:0'):\n",
    "    model = get_model(5)\n",
    "    model.fit(train_images_scaled,train_labels,epochs = 5)"
   ]
  },
  {
   "cell_type": "code",
   "execution_count": 12,
   "id": "f67607a8",
   "metadata": {
    "scrolled": true
   },
   "outputs": [
    {
     "name": "stdout",
     "output_type": "stream",
     "text": [
      "Epoch 1/5\n",
      "1875/1875 [==============================] - 6s 3ms/step - loss: 0.4751 - accuracy: 0.8289\n",
      "Epoch 2/5\n",
      "1875/1875 [==============================] - 6s 3ms/step - loss: 0.3587 - accuracy: 0.8681\n",
      "Epoch 3/5\n",
      "1875/1875 [==============================] - 6s 3ms/step - loss: 0.3223 - accuracy: 0.8806\n",
      "Epoch 4/5\n",
      "1875/1875 [==============================] - 6s 3ms/step - loss: 0.2961 - accuracy: 0.8898\n",
      "Epoch 5/5\n",
      "1875/1875 [==============================] - 6s 3ms/step - loss: 0.2815 - accuracy: 0.8943\n",
      "30.9 s ± 0 ns per loop (mean ± std. dev. of 1 run, 1 loop each)\n"
     ]
    }
   ],
   "source": [
    "%%timeit -n1 -r1\n",
    "\n",
    "with tf.device('/GPU:0'):\n",
    "    model = get_model(1)\n",
    "    model.fit(train_images_scaled,train_labels,epochs=5)"
   ]
  },
  {
   "cell_type": "code",
   "execution_count": 14,
   "id": "efd24f6d",
   "metadata": {},
   "outputs": [
    {
     "name": "stdout",
     "output_type": "stream",
     "text": [
      "Epoch 1/5\n",
      "1875/1875 [==============================] - 11s 6ms/step - loss: 0.5146 - accuracy: 0.8136\n",
      "Epoch 2/5\n",
      "1875/1875 [==============================] - 11s 6ms/step - loss: 0.3933 - accuracy: 0.8591\n",
      "Epoch 3/5\n",
      "1875/1875 [==============================] - 12s 6ms/step - loss: 0.3517 - accuracy: 0.8726\n",
      "Epoch 4/5\n",
      "1875/1875 [==============================] - 17s 9ms/step - loss: 0.3276 - accuracy: 0.8822\n",
      "Epoch 5/5\n",
      "1875/1875 [==============================] - 24s 13ms/step - loss: 0.3098 - accuracy: 0.8869\n",
      "1min 15s ± 0 ns per loop (mean ± std. dev. of 1 run, 1 loop each)\n"
     ]
    }
   ],
   "source": [
    "%%timeit -n1 -r1\n",
    "\n",
    "with tf.device('/GPU:0'):\n",
    "    model = get_model(5)\n",
    "    model.fit(train_images_scaled,train_labels,epochs=5)"
   ]
  },
  {
   "cell_type": "code",
   "execution_count": null,
   "id": "6bfd7a68",
   "metadata": {},
   "outputs": [],
   "source": []
  }
 ],
 "metadata": {
  "kernelspec": {
   "display_name": "Python 3 (ipykernel)",
   "language": "python",
   "name": "python3"
  },
  "language_info": {
   "codemirror_mode": {
    "name": "ipython",
    "version": 3
   },
   "file_extension": ".py",
   "mimetype": "text/x-python",
   "name": "python",
   "nbconvert_exporter": "python",
   "pygments_lexer": "ipython3",
   "version": "3.9.4"
  }
 },
 "nbformat": 4,
 "nbformat_minor": 5
}
