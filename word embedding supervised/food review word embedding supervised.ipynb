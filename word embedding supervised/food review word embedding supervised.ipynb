{
 "cells": [
  {
   "cell_type": "code",
   "execution_count": 1,
   "id": "eaa59109",
   "metadata": {},
   "outputs": [],
   "source": [
    "import numpy as np\n",
    "\n",
    "from tensorflow.keras.preprocessing.text import one_hot\n",
    "from tensorflow.keras.preprocessing.sequence import pad_sequences\n",
    "from tensorflow.keras.models import Sequential\n",
    "from tensorflow.keras.layers import Dense,Flatten,Embedding"
   ]
  },
  {
   "cell_type": "code",
   "execution_count": 2,
   "id": "da095cdb",
   "metadata": {},
   "outputs": [],
   "source": [
    "reviews = [\n",
    "    'nice food',\n",
    "    'amazing retaurant',\n",
    "    'too good',\n",
    "    'just loved it!',\n",
    "    'will go again',\n",
    "    'horrible food',\n",
    "    'never go there',\n",
    "    'poor service',\n",
    "    'poor quality',\n",
    "    'needs improvement'\n",
    "]\n",
    "\n",
    "sentiment = np.array([1,1,1,1,1,0,0,0,0,0])"
   ]
  },
  {
   "cell_type": "code",
   "execution_count": 6,
   "id": "79a6a88c",
   "metadata": {},
   "outputs": [
    {
     "data": {
      "text/plain": [
       "[26, 12]"
      ]
     },
     "execution_count": 6,
     "metadata": {},
     "output_type": "execute_result"
    }
   ],
   "source": [
    "one_hot('amazing restaurant',30)"
   ]
  },
  {
   "cell_type": "code",
   "execution_count": 21,
   "id": "58a6a3bf",
   "metadata": {},
   "outputs": [
    {
     "data": {
      "text/plain": [
       "[[9, 2],\n",
       " [33, 30],\n",
       " [39, 15],\n",
       " [44, 8, 42],\n",
       " [19, 15, 11],\n",
       " [24, 2],\n",
       " [22, 15, 34],\n",
       " [8, 15],\n",
       " [8, 18],\n",
       " [2, 8]]"
      ]
     },
     "execution_count": 21,
     "metadata": {},
     "output_type": "execute_result"
    }
   ],
   "source": [
    "vocab_size = 50\n",
    "encoded_reviews = [one_hot(words,vocab_size) for words in reviews]\n",
    "encoded_reviews"
   ]
  },
  {
   "cell_type": "code",
   "execution_count": 22,
   "id": "62bf0222",
   "metadata": {},
   "outputs": [
    {
     "data": {
      "text/plain": [
       "array([[ 9,  2,  0],\n",
       "       [33, 30,  0],\n",
       "       [39, 15,  0],\n",
       "       [44,  8, 42],\n",
       "       [19, 15, 11],\n",
       "       [24,  2,  0],\n",
       "       [22, 15, 34],\n",
       "       [ 8, 15,  0],\n",
       "       [ 8, 18,  0],\n",
       "       [ 2,  8,  0]])"
      ]
     },
     "execution_count": 22,
     "metadata": {},
     "output_type": "execute_result"
    }
   ],
   "source": [
    "max_length = 3\n",
    "padded_reviews = pad_sequences(encoded_reviews,maxlen=max_length,padding='post')\n",
    "padded_reviews"
   ]
  },
  {
   "cell_type": "code",
   "execution_count": 23,
   "id": "1938b5a4",
   "metadata": {},
   "outputs": [],
   "source": [
    "embeded_vector_size = 4\n",
    "model = Sequential()\n",
    "model.add(Embedding(vocab_size,embeded_vector_size,input_length=max_length,name='embedding'))\n",
    "model.add(Flatten())\n",
    "model.add(Dense(1,activation='sigmoid'))"
   ]
  },
  {
   "cell_type": "code",
   "execution_count": 24,
   "id": "b4953235",
   "metadata": {},
   "outputs": [],
   "source": [
    "X = padded_reviews\n",
    "y = sentiment"
   ]
  },
  {
   "cell_type": "code",
   "execution_count": 25,
   "id": "3bb98930",
   "metadata": {},
   "outputs": [
    {
     "name": "stdout",
     "output_type": "stream",
     "text": [
      "Model: \"sequential_2\"\n",
      "_________________________________________________________________\n",
      "Layer (type)                 Output Shape              Param #   \n",
      "=================================================================\n",
      "embedding (Embedding)        (None, 3, 4)              200       \n",
      "_________________________________________________________________\n",
      "flatten_2 (Flatten)          (None, 12)                0         \n",
      "_________________________________________________________________\n",
      "dense_2 (Dense)              (None, 1)                 13        \n",
      "=================================================================\n",
      "Total params: 213\n",
      "Trainable params: 213\n",
      "Non-trainable params: 0\n",
      "_________________________________________________________________\n"
     ]
    }
   ],
   "source": [
    "model.compile(optimizer='adam',loss='binary_crossentropy',metrics=['accuracy'])\n",
    "model.summary()"
   ]
  },
  {
   "cell_type": "code",
   "execution_count": 26,
   "id": "2d2e5886",
   "metadata": {},
   "outputs": [
    {
     "data": {
      "text/plain": [
       "<tensorflow.python.keras.callbacks.History at 0x2966f443490>"
      ]
     },
     "execution_count": 26,
     "metadata": {},
     "output_type": "execute_result"
    }
   ],
   "source": [
    "model.fit(X,y,epochs=100,verbose=0)"
   ]
  },
  {
   "cell_type": "code",
   "execution_count": 27,
   "id": "c1f3ef75",
   "metadata": {},
   "outputs": [
    {
     "name": "stdout",
     "output_type": "stream",
     "text": [
      "1/1 [==============================] - 0s 128ms/step - loss: 0.5712 - accuracy: 1.0000\n"
     ]
    }
   ],
   "source": [
    "loss, accuracy = model.evaluate(X,y)"
   ]
  },
  {
   "cell_type": "code",
   "execution_count": 30,
   "id": "e6faa0d0",
   "metadata": {
    "collapsed": true
   },
   "outputs": [
    {
     "data": {
      "text/plain": [
       "array([[-0.11775602,  0.05533473,  0.15132238,  0.05260024],\n",
       "       [-0.04837435, -0.00752747, -0.046825  ,  0.02167599],\n",
       "       [ 0.08344674, -0.13695589,  0.07995927,  0.12047408],\n",
       "       [ 0.0317269 ,  0.04062722,  0.03912517, -0.0165597 ],\n",
       "       [-0.0027114 ,  0.00352954,  0.02987161, -0.02373582],\n",
       "       [ 0.00787561,  0.03988859, -0.00633067, -0.03012482],\n",
       "       [ 0.04427383, -0.02743127, -0.01623851, -0.03486298],\n",
       "       [ 0.01903299,  0.03576832, -0.03765491,  0.02807185],\n",
       "       [ 0.07356758, -0.07457057,  0.11631926,  0.11915495],\n",
       "       [-0.13593566,  0.07220952, -0.11316455, -0.13662705],\n",
       "       [-0.02015909, -0.01779   , -0.0361008 ,  0.00564035],\n",
       "       [ 0.12665534, -0.05307688, -0.10412727, -0.11887114],\n",
       "       [-0.03449415,  0.02479091, -0.02322661,  0.03489019],\n",
       "       [-0.03998243,  0.02437359,  0.02686775,  0.04416216],\n",
       "       [ 0.02366124,  0.00329938,  0.01463094,  0.03545043],\n",
       "       [ 0.07902931, -0.03023708,  0.03439111,  0.04569805],\n",
       "       [-0.00897926, -0.02286178,  0.00507278, -0.01190908],\n",
       "       [-0.04845122,  0.04931596,  0.02802693, -0.00724866],\n",
       "       [-0.08010926,  0.1015438 , -0.05517932, -0.05962019],\n",
       "       [-0.07288672,  0.06336477, -0.12719642, -0.14527927],\n",
       "       [-0.04715944, -0.02627063, -0.00472709, -0.03687793],\n",
       "       [-0.02417846, -0.04718434,  0.02918433, -0.00233637],\n",
       "       [ 0.13881862, -0.08022786,  0.08261865,  0.13687451],\n",
       "       [-0.00840676,  0.04566495,  0.03820432,  0.02074346],\n",
       "       [ 0.10541177, -0.12411869,  0.09867276,  0.07411341],\n",
       "       [ 0.0400048 , -0.01024374, -0.0246539 , -0.01819617],\n",
       "       [ 0.02686635,  0.04174482, -0.02599821,  0.04866984],\n",
       "       [-0.03327894,  0.01209791,  0.01141487, -0.0087767 ],\n",
       "       [-0.03867761,  0.04003498,  0.04372703,  0.04435218],\n",
       "       [-0.00455047,  0.01597129, -0.04403314, -0.0032625 ],\n",
       "       [ 0.14739524, -0.07928555,  0.06888581,  0.13294749],\n",
       "       [-0.04431069,  0.00574536,  0.04202181, -0.03469629],\n",
       "       [-0.04821473, -0.00361979, -0.02243164,  0.04685977],\n",
       "       [-0.06738814,  0.12051864, -0.07950314, -0.15307501],\n",
       "       [-0.0751466 ,  0.14531335,  0.09111898,  0.09732243],\n",
       "       [ 0.03278242, -0.00363683,  0.01687283, -0.04436117],\n",
       "       [ 0.04802142,  0.00901774,  0.01033833,  0.03456687],\n",
       "       [-0.00594201,  0.03542917, -0.03807851, -0.00538156],\n",
       "       [ 0.01960964,  0.00529349, -0.03549914, -0.01682956],\n",
       "       [-0.09210798,  0.10321094, -0.06751991, -0.06639169],\n",
       "       [ 0.02385864, -0.02343502, -0.00071323,  0.00114449],\n",
       "       [-0.03331806,  0.04135654, -0.04309843, -0.01152934],\n",
       "       [ 0.09478007, -0.07066344, -0.08957347, -0.09297799],\n",
       "       [ 0.03060854, -0.03315836, -0.02264255, -0.03099813],\n",
       "       [-0.09016487,  0.11023639, -0.09444672, -0.08874158],\n",
       "       [-0.01221872, -0.02130715, -0.01543211,  0.02063378],\n",
       "       [-0.0337496 , -0.02624032,  0.04152571,  0.02620575],\n",
       "       [-0.03520299,  0.00535587,  0.01803786,  0.03211485],\n",
       "       [ 0.02686663,  0.00998222, -0.04399172, -0.0230494 ],\n",
       "       [-0.03203102,  0.00108939,  0.02982408,  0.01226015]],\n",
       "      dtype=float32)"
      ]
     },
     "execution_count": 30,
     "metadata": {},
     "output_type": "execute_result"
    }
   ],
   "source": [
    "weights = model.get_layer('embedding').get_weights()[0]\n",
    "weights"
   ]
  },
  {
   "cell_type": "code",
   "execution_count": 31,
   "id": "46d54fdd",
   "metadata": {},
   "outputs": [
    {
     "data": {
      "text/plain": [
       "array([ 0.12665534, -0.05307688, -0.10412727, -0.11887114], dtype=float32)"
      ]
     },
     "execution_count": 31,
     "metadata": {},
     "output_type": "execute_result"
    }
   ],
   "source": [
    "weights[11]"
   ]
  },
  {
   "cell_type": "code",
   "execution_count": null,
   "id": "e7102fff",
   "metadata": {},
   "outputs": [],
   "source": []
  }
 ],
 "metadata": {
  "kernelspec": {
   "display_name": "Python 3 (ipykernel)",
   "language": "python",
   "name": "python3"
  },
  "language_info": {
   "codemirror_mode": {
    "name": "ipython",
    "version": 3
   },
   "file_extension": ".py",
   "mimetype": "text/x-python",
   "name": "python",
   "nbconvert_exporter": "python",
   "pygments_lexer": "ipython3",
   "version": "3.9.4"
  }
 },
 "nbformat": 4,
 "nbformat_minor": 5
}
